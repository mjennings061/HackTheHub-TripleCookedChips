{
 "cells": [
  {
   "cell_type": "code",
   "execution_count": 1,
   "id": "7b5b710e-c228-4a85-96a2-bea19f53efbb",
   "metadata": {},
   "outputs": [],
   "source": [
    "# Import packages\n",
    "from urllib.request import urlopen\n",
    "import json\n",
    "import pandas as pd\n",
    "import matplotlib.pyplot as plt\n",
    "import matplotlib.ticker as ticker\n",
    "from datetime import datetime, timedelta\n",
    "import math"
   ]
  },
  {
   "cell_type": "code",
   "execution_count": 2,
   "id": "d5869208-6d9c-404a-8b30-4ec98ca37cdc",
   "metadata": {},
   "outputs": [],
   "source": [
    "def get_elec_sub_90(start_date, end_date):\n",
    "    # Format URL\n",
    "    DNO = \"12\" # London area.\n",
    "    VOLTAGE = \"LV\" # Low voltage.\n",
    "    start_date = start_date.strftime(\"%d-%m-%Y\")\n",
    "    end_date = end_date.strftime(\"%d-%m-%Y\")\n",
    "    url = f\"https://odegdcpnma.execute-api.eu-west-2.amazonaws.com/development/prices?dno={DNO}&voltage={VOLTAGE}&start={start_date}&end={end_date}\"\n",
    "    \n",
    "    # Hit the API to get the JSON.\n",
    "    response = urlopen(url)\n",
    "    data_json = json.loads(response.read())\n",
    "    \n",
    "    # Format as a dataframe.\n",
    "    df = pd.json_normalize(data_json[\"data\"][\"data\"])\n",
    "    df = df.drop(columns=\"unixTimestamp\")\n",
    "    df[\"Timestamp\"] = pd.to_datetime(df[\"Timestamp\"], format=\"%H:%M %d-%m-%Y\")\n",
    "    df.set_index(\"Timestamp\", inplace=True)\n",
    "    \n",
    "    return df"
   ]
  },
  {
   "cell_type": "code",
   "execution_count": 3,
   "id": "f6965e05-5888-4286-a232-467d344b1050",
   "metadata": {},
   "outputs": [],
   "source": [
    "def get_electricity(start_date=\"01-10-2022\", end_date=\"01-01-2023\", groupBy='M'):\n",
    "    \"\"\"Get the weekly electricity as a pandas dataframe. \n",
    "    \n",
    "    start_date: Format \"DD-MM-YYYY\". Start date.\n",
    "    end_date: Format \"DD-MM-YYYY\". End date.\n",
    "    groupBy: Format 'Y', 'M', or 'D'. Group by year, month or day.\"\"\"\n",
    "    \n",
    "    # Set constants.\n",
    "    DAY_LIMIT = 90\n",
    "    \n",
    "    # Work out if date is over 90 days.\n",
    "    date_format = \"%d-%m-%Y\"\n",
    "    start = datetime.strptime(START_DATE, date_format)\n",
    "    end = datetime.strptime(END_DATE, date_format)\n",
    "    delta = (end - start).days\n",
    "\n",
    "    # Split starts and ends into separate dates.\n",
    "    if delta > DAY_LIMIT:\n",
    "        nRuns = math.ceil(delta / DAY_LIMIT)\n",
    "        output_dfs = []\n",
    "        for iRun in range(nRuns):  \n",
    "            this_start = start + timedelta(days=(iRun * DAY_LIMIT))\n",
    "            this_end = this_start + timedelta(days=DAY_LIMIT)\n",
    "            output_dfs.append(get_elec_sub_90(this_start, this_end))\n",
    "\n",
    "        # Concatenate dfs.\n",
    "        elec_prices = pd.concat(output_dfs)\n",
    "        \n",
    "    else:\n",
    "        elec_prices = get_elec_sub_90(start_date, end_date)\n",
    "        \n",
    "    # Get mean of each week, month, or day.\n",
    "    elec_monthly = elec_prices.resample(groupBy).mean()\n",
    "\n",
    "    return elec_monthly"
   ]
  },
  {
   "cell_type": "code",
   "execution_count": 36,
   "id": "4c7dcfe1-89c3-4c44-949f-48d4318fef07",
   "metadata": {},
   "outputs": [
    {
     "data": {
      "image/png": "[encoded data removed]",
      "text/plain": [
       "<Figure size 640x480 with 1 Axes>"
      ]
     },
     "metadata": {},
     "output_type": "display_data"
    }
   ],
   "source": [
    "# Call the function.\n",
    "START_DATE = \"01-07-2022\"\n",
    "END_DATE = \"01-12-2022\"\n",
    "GROUP_BY = \"M\"\n",
    "elec_by_month = get_electricity(START_DATE, END_DATE, GROUP_BY)\n",
    "\n",
    "# Plot the response.\n",
    "x = \"Date\"\n",
    "y = \"Price (£/kWh)\"\n",
    "ax = elec_by_month[\"Overall\"].plot(x=x, y=y)\n",
    "plt.show()"
   ]
  },
  {
   "cell_type": "code",
   "execution_count": 37,
   "id": "92077b43-8994-44f1-b2bb-91a29e67dc37",
   "metadata": {},
   "outputs": [
    {
     "data": {
      "text/html": [
       "<div>\n",
       "<style scoped>\n",
       "    .dataframe tbody tr th:only-of-type {\n",
       "        vertical-align: middle;\n",
       "    }\n",
       "\n",
       "    .dataframe tbody tr th {\n",
       "        vertical-align: top;\n",
       "    }\n",
       "\n",
       "    .dataframe thead th {\n",
       "        text-align: right;\n",
       "    }\n",
       "</style>\n",
       "<table border=\"1\" class=\"dataframe\">\n",
       "  <thead>\n",
       "    <tr style=\"text-align: right;\">\n",
       "      <th></th>\n",
       "      <th>Overall</th>\n",
       "    </tr>\n",
       "    <tr>\n",
       "      <th>Timestamp</th>\n",
       "      <th></th>\n",
       "    </tr>\n",
       "  </thead>\n",
       "  <tbody>\n",
       "    <tr>\n",
       "      <th>2022-07-31</th>\n",
       "      <td>11.593952</td>\n",
       "    </tr>\n",
       "    <tr>\n",
       "      <th>2022-08-31</th>\n",
       "      <td>11.647661</td>\n",
       "    </tr>\n",
       "    <tr>\n",
       "      <th>2022-09-30</th>\n",
       "      <td>11.564566</td>\n",
       "    </tr>\n",
       "    <tr>\n",
       "      <th>2022-10-31</th>\n",
       "      <td>12.352823</td>\n",
       "    </tr>\n",
       "    <tr>\n",
       "      <th>2022-11-30</th>\n",
       "      <td>12.447250</td>\n",
       "    </tr>\n",
       "    <tr>\n",
       "      <th>2022-12-31</th>\n",
       "      <td>12.419229</td>\n",
       "    </tr>\n",
       "  </tbody>\n",
       "</table>\n",
       "</div>"
      ],
      "text/plain": [
       "              Overall\n",
       "Timestamp            \n",
       "2022-07-31  11.593952\n",
       "2022-08-31  11.647661\n",
       "2022-09-30  11.564566\n",
       "2022-10-31  12.352823\n",
       "2022-11-30  12.447250\n",
       "2022-12-31  12.419229"
      ]
     },
     "execution_count": 37,
     "metadata": {},
     "output_type": "execute_result"
    }
   ],
   "source": [
    "elec_by_month"
   ]
  },
  {
   "cell_type": "code",
   "execution_count": 55,
   "id": "bce8b37b-b7ef-4ad6-af96-ec02861cf9c7",
   "metadata": {},
   "outputs": [
    {
     "data": {
      "text/plain": [
       "array(['2022-07-31T00:00:00.000000000', '2022-08-31T00:00:00.000000000',\n",
       "       '2022-09-30T00:00:00.000000000', '2022-10-31T00:00:00.000000000',\n",
       "       '2022-11-30T00:00:00.000000000', '2022-12-31T00:00:00.000000000'],\n",
       "      dtype='datetime64[ns]')"
      ]
     },
     "execution_count": 55,
     "metadata": {},
     "output_type": "execute_result"
    }
   ],
   "source": [
    "elec_by_month.index.values"
   ]
  },
  {
   "cell_type": "code",
   "execution_count": 108,
   "id": "76e8b591-328a-4fc7-989b-a5bdbeae94dd",
   "metadata": {},
   "outputs": [],
   "source": [
    "def calculate_future_spending(monthly_spending_list, predicted_prices_df):\n",
    "    \"\"\"Calculate spending for the next N months based on the last bill\"\"\"\n",
    "    # Get last bill value from list.\n",
    "    last_bill = monthly_spending_list[-1]\n",
    "\n",
    "    # Current date.\n",
    "    current_month = datetime.now().date()\n",
    "\n",
    "    # Filter previous months.\n",
    "    future_elec = predicted_prices_df.loc[current_month - timedelta(days=32) : ]\n",
    "\n",
    "    # Calculate percentage difference.\n",
    "    diff_factor = future_elec['Overall'].pct_change()\n",
    "\n",
    "    # Calculate future spending.\n",
    "    future_spending = (1 + diff_factor) * last_bill\n",
    "    future_spending = future_spending.drop(index=future_spending.index[0])\n",
    "    future_spending_df = pd.DataFrame(future_spending)\n",
    "\n",
    "    # Get past timestamps.\n",
    "    past_elec_prices = predicted_prices_df.loc[: current_month]\n",
    "    past_timestamps = past_elec_prices.index.values\n",
    "    past_spending = pd.DataFrame({\"Timestamp\": past_timestamps, \"Overall\": SPENDING_ON_ELEC})\n",
    "    past_spending[\"Timestamp\"] = pd.to_datetime(past_spending[\"Timestamp\"], format=\"%d-%m-%Y\")\n",
    "    past_spending.set_index(\"Timestamp\", inplace=True)\n",
    "\n",
    "    # Combine current and future spending.\n",
    "    total_spending = pd.concat([past_spending, future_spending_df])\n",
    "    \n",
    "    return total_spending"
   ]
  },
  {
   "cell_type": "code",
   "execution_count": 109,
   "id": "a503cfca-fddb-4a99-b753-82af0a2319d0",
   "metadata": {},
   "outputs": [
    {
     "data": {
      "text/html": [
       "<div>\n",
       "<style scoped>\n",
       "    .dataframe tbody tr th:only-of-type {\n",
       "        vertical-align: middle;\n",
       "    }\n",
       "\n",
       "    .dataframe tbody tr th {\n",
       "        vertical-align: top;\n",
       "    }\n",
       "\n",
       "    .dataframe thead th {\n",
       "        text-align: right;\n",
       "    }\n",
       "</style>\n",
       "<table border=\"1\" class=\"dataframe\">\n",
       "  <thead>\n",
       "    <tr style=\"text-align: right;\">\n",
       "      <th></th>\n",
       "      <th>Overall</th>\n",
       "    </tr>\n",
       "    <tr>\n",
       "      <th>Timestamp</th>\n",
       "      <th></th>\n",
       "    </tr>\n",
       "  </thead>\n",
       "  <tbody>\n",
       "    <tr>\n",
       "      <th>2022-07-31</th>\n",
       "      <td>100.000000</td>\n",
       "    </tr>\n",
       "    <tr>\n",
       "      <th>2022-08-31</th>\n",
       "      <td>98.000000</td>\n",
       "    </tr>\n",
       "    <tr>\n",
       "      <th>2022-09-30</th>\n",
       "      <td>110.000000</td>\n",
       "    </tr>\n",
       "    <tr>\n",
       "      <th>2022-10-31</th>\n",
       "      <td>117.497747</td>\n",
       "    </tr>\n",
       "    <tr>\n",
       "      <th>2022-11-30</th>\n",
       "      <td>110.840862</td>\n",
       "    </tr>\n",
       "    <tr>\n",
       "      <th>2022-12-31</th>\n",
       "      <td>109.752370</td>\n",
       "    </tr>\n",
       "  </tbody>\n",
       "</table>\n",
       "</div>"
      ],
      "text/plain": [
       "               Overall\n",
       "Timestamp             \n",
       "2022-07-31  100.000000\n",
       "2022-08-31   98.000000\n",
       "2022-09-30  110.000000\n",
       "2022-10-31  117.497747\n",
       "2022-11-30  110.840862\n",
       "2022-12-31  109.752370"
      ]
     },
     "execution_count": 109,
     "metadata": {},
     "output_type": "execute_result"
    }
   ],
   "source": [
    "# Calculate difference in spending on electricity.\n",
    "SPENDING_ON_ELEC = [100, 98, 110]\n",
    "total_spend = calculate_future_spending(SPENDING_ON_ELEC, elec_by_month)\n",
    "total_spend"
   ]
  },
  {
   "cell_type": "code",
   "execution_count": 44,
   "id": "1bd87530-353a-4938-8171-56ed92f5e70a",
   "metadata": {},
   "outputs": [],
   "source": [
    "##############################################################################################################"
   ]
  },
  {
   "cell_type": "code",
   "execution_count": 7,
   "id": "74b893ab-535b-4de2-aa85-b28be9fd0e07",
   "metadata": {},
   "outputs": [],
   "source": [
    "# Format URL\n",
    "DNO = \"12\" # London area.\n",
    "VOLTAGE = \"LV\" # Low voltage.\n",
    "START_DATE = \"01-09-2022\"\n",
    "END_DATE = \"01-01-2023\"\n",
    "\n",
    "url = f\"https://odegdcpnma.execute-api.eu-west-2.amazonaws.com/development/prices?dno={DNO}&voltage={VOLTAGE}&start={START_DATE}&end={END_DATE}\""
   ]
  },
  {
   "cell_type": "code",
   "execution_count": 8,
   "id": "1728da49-aa86-4431-8d47-e7f480eece9e",
   "metadata": {},
   "outputs": [
    {
     "name": "stdout",
     "output_type": "stream",
     "text": [
      "{\n",
      "  \"status\": \"success\",\n",
      "  \"data\": {\n",
      "    \"dnoRegion\": \"12\",\n",
      "    \"voltageLevel\": \"LV\",\n",
      "    \"data\": [\n",
      "      {\n",
      "        \"Overall\": 10.54,\n",
      "        \"unixTimestamp\": 1661990400,\n",
      "        \"Timestamp\": \"00:00 01-09-2022\"\n",
      "      },\n",
      "      {\n",
      "        \"Overall\": 10.54,\n",
      "        \"unixTimestamp\": 1661992200,\n",
      "        \"\n"
     ]
    }
   ],
   "source": [
    "# Hit the API to get the JSON.\n",
    "response = urlopen(url)\n",
    "data_json = json.loads(response.read())\n",
    "print(json.dumps(data_json, indent=2)[0:300])"
   ]
  },
  {
   "cell_type": "code",
   "execution_count": 9,
   "id": "34dda601-4395-4342-ac4e-b41f4d25abe4",
   "metadata": {},
   "outputs": [
    {
     "data": {
      "text/html": [
       "<div>\n",
       "<style scoped>\n",
       "    .dataframe tbody tr th:only-of-type {\n",
       "        vertical-align: middle;\n",
       "    }\n",
       "\n",
       "    .dataframe tbody tr th {\n",
       "        vertical-align: top;\n",
       "    }\n",
       "\n",
       "    .dataframe thead th {\n",
       "        text-align: right;\n",
       "    }\n",
       "</style>\n",
       "<table border=\"1\" class=\"dataframe\">\n",
       "  <thead>\n",
       "    <tr style=\"text-align: right;\">\n",
       "      <th></th>\n",
       "      <th>Overall</th>\n",
       "    </tr>\n",
       "    <tr>\n",
       "      <th>Timestamp</th>\n",
       "      <th></th>\n",
       "    </tr>\n",
       "  </thead>\n",
       "  <tbody>\n",
       "    <tr>\n",
       "      <th>2022-09-01 00:00:00</th>\n",
       "      <td>10.54</td>\n",
       "    </tr>\n",
       "    <tr>\n",
       "      <th>2022-09-01 00:30:00</th>\n",
       "      <td>10.54</td>\n",
       "    </tr>\n",
       "    <tr>\n",
       "      <th>2022-09-01 01:00:00</th>\n",
       "      <td>10.54</td>\n",
       "    </tr>\n",
       "    <tr>\n",
       "      <th>2022-09-01 01:30:00</th>\n",
       "      <td>10.54</td>\n",
       "    </tr>\n",
       "    <tr>\n",
       "      <th>2022-09-01 02:00:00</th>\n",
       "      <td>10.54</td>\n",
       "    </tr>\n",
       "    <tr>\n",
       "      <th>...</th>\n",
       "      <td>...</td>\n",
       "    </tr>\n",
       "    <tr>\n",
       "      <th>2022-12-31 22:00:00</th>\n",
       "      <td>11.36</td>\n",
       "    </tr>\n",
       "    <tr>\n",
       "      <th>2022-12-31 22:30:00</th>\n",
       "      <td>11.36</td>\n",
       "    </tr>\n",
       "    <tr>\n",
       "      <th>2022-12-31 23:00:00</th>\n",
       "      <td>11.36</td>\n",
       "    </tr>\n",
       "    <tr>\n",
       "      <th>2022-12-31 23:30:00</th>\n",
       "      <td>11.36</td>\n",
       "    </tr>\n",
       "    <tr>\n",
       "      <th>2023-01-01 00:00:00</th>\n",
       "      <td>11.20</td>\n",
       "    </tr>\n",
       "  </tbody>\n",
       "</table>\n",
       "<p>5857 rows × 1 columns</p>\n",
       "</div>"
      ],
      "text/plain": [
       "                     Overall\n",
       "Timestamp                   \n",
       "2022-09-01 00:00:00    10.54\n",
       "2022-09-01 00:30:00    10.54\n",
       "2022-09-01 01:00:00    10.54\n",
       "2022-09-01 01:30:00    10.54\n",
       "2022-09-01 02:00:00    10.54\n",
       "...                      ...\n",
       "2022-12-31 22:00:00    11.36\n",
       "2022-12-31 22:30:00    11.36\n",
       "2022-12-31 23:00:00    11.36\n",
       "2022-12-31 23:30:00    11.36\n",
       "2023-01-01 00:00:00    11.20\n",
       "\n",
       "[5857 rows x 1 columns]"
      ]
     },
     "execution_count": 9,
     "metadata": {},
     "output_type": "execute_result"
    }
   ],
   "source": [
    "# Show the response.\n",
    "df = pd.json_normalize(data_json[\"data\"][\"data\"])\n",
    "df = df.drop(columns=\"unixTimestamp\")\n",
    "df[\"Timestamp\"] = pd.to_datetime(df[\"Timestamp\"], format=\"%H:%M %d-%m-%Y\")\n",
    "df.set_index(\"Timestamp\", inplace=True)\n",
    "df"
   ]
  },
  {
   "cell_type": "code",
   "execution_count": 10,
   "id": "9517c0de-6aa2-466e-865b-bbad682b9a88",
   "metadata": {},
   "outputs": [
    {
     "data": {
      "image/png": "[encoded data removed]",
      "text/plain": [
       "<Figure size 640x480 with 1 Axes>"
      ]
     },
     "metadata": {},
     "output_type": "display_data"
    }
   ],
   "source": [
    "# Plot the response.\n",
    "x = \"Date/Time\"\n",
    "y = \"Price (£/kWh)\"\n",
    "ax = df[\"Overall\"].plot(x=x, y=y)\n",
    "plt.show()"
   ]
  },
  {
   "cell_type": "code",
   "execution_count": 11,
   "id": "b7f6af49-5953-4d61-beb6-b4a71b5eaaa2",
   "metadata": {},
   "outputs": [
    {
     "data": {
      "text/html": [
       "<div>\n",
       "<style scoped>\n",
       "    .dataframe tbody tr th:only-of-type {\n",
       "        vertical-align: middle;\n",
       "    }\n",
       "\n",
       "    .dataframe tbody tr th {\n",
       "        vertical-align: top;\n",
       "    }\n",
       "\n",
       "    .dataframe thead th {\n",
       "        text-align: right;\n",
       "    }\n",
       "</style>\n",
       "<table border=\"1\" class=\"dataframe\">\n",
       "  <thead>\n",
       "    <tr style=\"text-align: right;\">\n",
       "      <th></th>\n",
       "      <th>Overall</th>\n",
       "    </tr>\n",
       "    <tr>\n",
       "      <th>Timestamp</th>\n",
       "      <th></th>\n",
       "    </tr>\n",
       "  </thead>\n",
       "  <tbody>\n",
       "    <tr>\n",
       "      <th>2022-09-30</th>\n",
       "      <td>11.565278</td>\n",
       "    </tr>\n",
       "    <tr>\n",
       "      <th>2022-10-31</th>\n",
       "      <td>12.352823</td>\n",
       "    </tr>\n",
       "    <tr>\n",
       "      <th>2022-11-30</th>\n",
       "      <td>12.447250</td>\n",
       "    </tr>\n",
       "    <tr>\n",
       "      <th>2022-12-31</th>\n",
       "      <td>12.427177</td>\n",
       "    </tr>\n",
       "    <tr>\n",
       "      <th>2023-01-31</th>\n",
       "      <td>11.200000</td>\n",
       "    </tr>\n",
       "  </tbody>\n",
       "</table>\n",
       "</div>"
      ],
      "text/plain": [
       "              Overall\n",
       "Timestamp            \n",
       "2022-09-30  11.565278\n",
       "2022-10-31  12.352823\n",
       "2022-11-30  12.447250\n",
       "2022-12-31  12.427177\n",
       "2023-01-31  11.200000"
      ]
     },
     "execution_count": 11,
     "metadata": {},
     "output_type": "execute_result"
    }
   ],
   "source": [
    "# Get mean of each week.\n",
    "df_weekly = df.resample('M').mean()\n",
    "df_weekly"
   ]
  },
  {
   "cell_type": "code",
   "execution_count": 12,
   "id": "56b70365-2ee6-442c-a37f-7d540a9d8428",
   "metadata": {},
   "outputs": [
    {
     "data": {
      "image/png": "[encoded data removed]",
      "text/plain": [
       "<Figure size 640x480 with 1 Axes>"
      ]
     },
     "metadata": {},
     "output_type": "display_data"
    }
   ],
   "source": [
    "# Plot the response.\n",
    "x = \"Date\"\n",
    "y = \"Price (£/kWh)\"\n",
    "ax = df_weekly[\"Overall\"].plot(x=x, y=y)\n",
    "plt.show()"
   ]
  },
  {
   "cell_type": "code",
   "execution_count": 107,
   "id": "10f633b7-b4c0-4666-b9fe-548328ae1660",
   "metadata": {},
   "outputs": [
    {
     "data": {
      "text/html": [
       "<div>\n",
       "<style scoped>\n",
       "    .dataframe tbody tr th:only-of-type {\n",
       "        vertical-align: middle;\n",
       "    }\n",
       "\n",
       "    .dataframe tbody tr th {\n",
       "        vertical-align: top;\n",
       "    }\n",
       "\n",
       "    .dataframe thead th {\n",
       "        text-align: right;\n",
       "    }\n",
       "</style>\n",
       "<table border=\"1\" class=\"dataframe\">\n",
       "  <thead>\n",
       "    <tr style=\"text-align: right;\">\n",
       "      <th></th>\n",
       "      <th>Overall</th>\n",
       "    </tr>\n",
       "    <tr>\n",
       "      <th>Timestamp</th>\n",
       "      <th></th>\n",
       "    </tr>\n",
       "  </thead>\n",
       "  <tbody>\n",
       "    <tr>\n",
       "      <th>2022-07-31</th>\n",
       "      <td>100.000000</td>\n",
       "    </tr>\n",
       "    <tr>\n",
       "      <th>2022-08-31</th>\n",
       "      <td>98.000000</td>\n",
       "    </tr>\n",
       "    <tr>\n",
       "      <th>2022-09-30</th>\n",
       "      <td>110.000000</td>\n",
       "    </tr>\n",
       "    <tr>\n",
       "      <th>2022-10-31</th>\n",
       "      <td>117.497747</td>\n",
       "    </tr>\n",
       "    <tr>\n",
       "      <th>2022-11-30</th>\n",
       "      <td>110.840862</td>\n",
       "    </tr>\n",
       "    <tr>\n",
       "      <th>2022-12-31</th>\n",
       "      <td>109.752370</td>\n",
       "    </tr>\n",
       "  </tbody>\n",
       "</table>\n",
       "</div>"
      ],
      "text/plain": [
       "               Overall\n",
       "Timestamp             \n",
       "2022-07-31  100.000000\n",
       "2022-08-31   98.000000\n",
       "2022-09-30  110.000000\n",
       "2022-10-31  117.497747\n",
       "2022-11-30  110.840862\n",
       "2022-12-31  109.752370"
      ]
     },
     "execution_count": 107,
     "metadata": {},
     "output_type": "execute_result"
    }
   ],
   "source": [
    "# Calculate difference in spending on electricity.\n",
    "SPENDING_ON_ELEC = [100, 98, 110]\n",
    "\n",
    "# Get last bill value from list.\n",
    "last_bill = SPENDING_ON_ELEC[-1]\n",
    "\n",
    "# Current date.\n",
    "current_month = datetime.now().date()\n",
    "\n",
    "# Filter previous months.\n",
    "future_elec = elec_by_month.loc[current_month - timedelta(days=32) : ]\n",
    "\n",
    "# Calculate percentage difference.\n",
    "diff_factor = future_elec['Overall'].pct_change()\n",
    "\n",
    "# Calculate future spending.\n",
    "future_spending = (1 + diff_factor) * last_bill\n",
    "future_spending = future_spending.drop(index=future_spending.index[0])\n",
    "future_spending_df = pd.DataFrame(future_spending)\n",
    "\n",
    "# Get past timestamps.\n",
    "past_elec_prices = elec_by_month.loc[: current_month]\n",
    "past_timestamps = past_elec_prices.index.values\n",
    "past_spending = pd.DataFrame({\"Timestamp\": past_timestamps, \"Overall\": SPENDING_ON_ELEC})\n",
    "past_spending[\"Timestamp\"] = pd.to_datetime(past_spending[\"Timestamp\"], format=\"%d-%m-%Y\")\n",
    "past_spending.set_index(\"Timestamp\", inplace=True)\n",
    "\n",
    "# Combine current and future spending.\n",
    "total_spending = pd.concat([past_spending, future_spending_df])\n",
    "total_spending"
   ]
  }
 ],
 "metadata": {
  "kernelspec": {
   "display_name": "Python 3 (ipykernel)",
   "language": "python",
   "name": "python3"
  },
  "language_info": {
   "codemirror_mode": {
    "name": "ipython",
    "version": 3
   },
   "file_extension": ".py",
   "mimetype": "text/x-python",
   "name": "python",
   "nbconvert_exporter": "python",
   "pygments_lexer": "ipython3",
   "version": "3.10.6"
  }
 },
 "nbformat": 4,
 "nbformat_minor": 5
}
