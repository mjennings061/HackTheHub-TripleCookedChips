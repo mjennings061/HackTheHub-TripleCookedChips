{
 "cells": [
  {
   "cell_type": "code",
   "execution_count": 1,
   "id": "7b5b710e-c228-4a85-96a2-bea19f53efbb",
   "metadata": {},
   "outputs": [],
   "source": [
    "# Import packages\n",
    "from urllib.request import urlopen\n",
    "import json\n",
    "import pandas as pd\n",
    "import matplotlib.pyplot as plt\n",
    "import matplotlib.ticker as ticker"
   ]
  },
  {
   "cell_type": "code",
   "execution_count": 4,
   "id": "f6965e05-5888-4286-a232-467d344b1050",
   "metadata": {},
   "outputs": [],
   "source": [
    "def get_electricity(start_date=\"10/10/2022\", end_date=\"10/01/2023\", groupBy='M'):\n",
    "    \"\"\"Get the weekly electricity as a pandas dataframe. \n",
    "    \n",
    "    start_date: Format \"DD/MM/YYYY\". Start date.\n",
    "    end_date: Format \"DD/MM/YYYY\". End date.\n",
    "    groupBy: Format 'Y', 'M', or 'D'. Group by year, month or day.\"\"\"\n",
    "    \n",
    "    # Format URL\n",
    "    DNO = \"12\" # London area.\n",
    "    VOLTAGE = \"LV\" # Low voltage.\n",
    "    url = f\"https://odegdcpnma.execute-api.eu-west-2.amazonaws.com/development/prices?dno={DNO}&voltage={VOLTAGE}&start={start_date}&end={end_date}\"\n",
    "    \n",
    "    # Hit the API to get the JSON.\n",
    "    response = urlopen(url)\n",
    "    data_json = json.loads(response.read())\n",
    "    \n",
    "    # Format as a dataframe.\n",
    "    df = pd.json_normalize(data_json[\"data\"][\"data\"])\n",
    "    df = df.drop(columns=\"unixTimestamp\")\n",
    "    df[\"Timestamp\"] = pd.to_datetime(df[\"Timestamp\"], format=\"%H:%M %d-%m-%Y\")\n",
    "    df.set_index(\"Timestamp\", inplace=True)\n",
    "    \n",
    "    # Get mean of each week, month, or day.\n",
    "    df_grouped = df.resample(groupBy).mean()\n",
    "    \n",
    "    return df_grouped"
   ]
  },
  {
   "cell_type": "code",
   "execution_count": 5,
   "id": "4c7dcfe1-89c3-4c44-949f-48d4318fef07",
   "metadata": {},
   "outputs": [
    {
     "data": {
      "image/png": "[encoded data removed]",
      "text/plain": [
       "<Figure size 640x480 with 1 Axes>"
      ]
     },
     "metadata": {},
     "output_type": "display_data"
    }
   ],
   "source": [
    "# Call the function.\n",
    "START_DATE = \"10-10-2022\"\n",
    "END_DATE = \"10-01-2023\"\n",
    "GROUP_BY = \"M\"\n",
    "elec_monthly = get_electricity(START_DATE, END_DATE, GROUP_BY)\n",
    "\n",
    "# Plot the response.\n",
    "x = \"Date\"\n",
    "y = \"Price (£/kWh)\"\n",
    "ax = elec_monthly[\"Overall\"].plot(x=x, y=y)\n",
    "plt.show()"
   ]
  },
  {
   "cell_type": "code",
   "execution_count": null,
   "id": "74b893ab-535b-4de2-aa85-b28be9fd0e07",
   "metadata": {},
   "outputs": [],
   "source": [
    "# Format URL\n",
    "DNO = \"12\" # London area.\n",
    "VOLTAGE = \"LV\" # Low voltage.\n",
    "START_DATE = \"10-10-2022\"\n",
    "END_DATE = \"10-01-2023\"\n",
    "\n",
    "url = f\"https://odegdcpnma.execute-api.eu-west-2.amazonaws.com/development/prices?dno={DNO}&voltage={VOLTAGE}&start={START_DATE}&end={END_DATE}\""
   ]
  },
  {
   "cell_type": "code",
   "execution_count": null,
   "id": "1728da49-aa86-4431-8d47-e7f480eece9e",
   "metadata": {},
   "outputs": [],
   "source": [
    "# Hit the API to get the JSON.\n",
    "response = urlopen(url)\n",
    "data_json = json.loads(response.read())\n",
    "print(json.dumps(data_json, indent=2)[0:300])"
   ]
  },
  {
   "cell_type": "code",
   "execution_count": null,
   "id": "34dda601-4395-4342-ac4e-b41f4d25abe4",
   "metadata": {},
   "outputs": [],
   "source": [
    "# Show the response.\n",
    "df = pd.json_normalize(data_json[\"data\"][\"data\"])\n",
    "df = df.drop(columns=\"unixTimestamp\")\n",
    "df[\"Timestamp\"] = pd.to_datetime(df[\"Timestamp\"], format=\"%H:%M %d-%m-%Y\")\n",
    "df.set_index(\"Timestamp\", inplace=True)\n",
    "df"
   ]
  },
  {
   "cell_type": "code",
   "execution_count": null,
   "id": "9517c0de-6aa2-466e-865b-bbad682b9a88",
   "metadata": {},
   "outputs": [],
   "source": [
    "# Plot the response.\n",
    "x = \"Date/Time\"\n",
    "y = \"Price (£/kWh)\"\n",
    "ax = df[\"Overall\"].plot(x=x, y=y)\n",
    "plt.show()"
   ]
  },
  {
   "cell_type": "code",
   "execution_count": null,
   "id": "b7f6af49-5953-4d61-beb6-b4a71b5eaaa2",
   "metadata": {},
   "outputs": [],
   "source": [
    "# Get mean of each week.\n",
    "df_weekly = df.resample('M').mean()\n",
    "df_weekly"
   ]
  },
  {
   "cell_type": "code",
   "execution_count": null,
   "id": "56b70365-2ee6-442c-a37f-7d540a9d8428",
   "metadata": {},
   "outputs": [],
   "source": [
    "# Plot the response.\n",
    "x = \"Date\"\n",
    "y = \"Price (£/kWh)\"\n",
    "ax = df_weekly[\"Overall\"].plot(x=x, y=y)\n",
    "plt.show()"
   ]
  },
  {
   "cell_type": "code",
   "execution_count": null,
   "id": "5bcea631-2334-4bd8-8637-f1ec4443a1ea",
   "metadata": {},
   "outputs": [],
   "source": []
  }
 ],
 "metadata": {
  "kernelspec": {
   "display_name": "Python 3 (ipykernel)",
   "language": "python",
   "name": "python3"
  },
  "language_info": {
   "codemirror_mode": {
    "name": "ipython",
    "version": 3
   },
   "file_extension": ".py",
   "mimetype": "text/x-python",
   "name": "python",
   "nbconvert_exporter": "python",
   "pygments_lexer": "ipython3",
   "version": "3.10.6"
  }
 },
 "nbformat": 4,
 "nbformat_minor": 5
}
