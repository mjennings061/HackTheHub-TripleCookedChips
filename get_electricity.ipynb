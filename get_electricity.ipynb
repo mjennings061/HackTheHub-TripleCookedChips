{
 "cells": [
  {
   "cell_type": "code",
   "execution_count": 1,
   "id": "7b5b710e-c228-4a85-96a2-bea19f53efbb",
   "metadata": {},
   "outputs": [],
   "source": [
    "# Import packages\n",
    "from urllib.request import urlopen\n",
    "import json\n",
    "import pandas as pd\n",
    "import matplotlib.pyplot as plt\n",
    "import matplotlib.ticker as ticker\n",
    "from datetime import datetime, timedelta\n",
    "import math\n",
    "from io import StringIO"
   ]
  },
  {
   "cell_type": "code",
   "execution_count": 2,
   "id": "d5869208-6d9c-404a-8b30-4ec98ca37cdc",
   "metadata": {},
   "outputs": [],
   "source": [
    "def get_elec_sub_90(start_date, end_date):\n",
    "    # Format URL\n",
    "    DNO = \"12\" # London area.\n",
    "    VOLTAGE = \"LV\" # Low voltage.\n",
    "    start_date = start_date.strftime(\"%d-%m-%Y\")\n",
    "    end_date = end_date.strftime(\"%d-%m-%Y\")\n",
    "    url = f\"https://odegdcpnma.execute-api.eu-west-2.amazonaws.com/development/prices?dno={DNO}&voltage={VOLTAGE}&start={start_date}&end={end_date}\"\n",
    "    \n",
    "    # Hit the API to get the JSON.\n",
    "    response = urlopen(url)\n",
    "    data_json = json.loads(response.read())\n",
    "    \n",
    "    # Format as a dataframe.\n",
    "    df = pd.json_normalize(data_json[\"data\"][\"data\"])\n",
    "    df = df.drop(columns=\"unixTimestamp\")\n",
    "    df[\"Timestamp\"] = pd.to_datetime(df[\"Timestamp\"], format=\"%H:%M %d-%m-%Y\")\n",
    "    df.set_index(\"Timestamp\", inplace=True)\n",
    "    \n",
    "    return df"
   ]
  },
  {
   "cell_type": "code",
   "execution_count": 3,
   "id": "f6965e05-5888-4286-a232-467d344b1050",
   "metadata": {},
   "outputs": [],
   "source": [
    "def get_electricity(start_date=\"01-10-2022\", end_date=\"01-01-2023\", groupBy='M'):\n",
    "    \"\"\"Get the weekly electricity as a pandas dataframe. \n",
    "    \n",
    "    start_date: Format \"DD-MM-YYYY\". Start date.\n",
    "    end_date: Format \"DD-MM-YYYY\". End date.\n",
    "    groupBy: Format 'Y', 'M', or 'D'. Group by year, month or day.\"\"\"\n",
    "    \n",
    "    # Set constants.\n",
    "    DAY_LIMIT = 90\n",
    "    \n",
    "    # Work out if date is over 90 days.\n",
    "    date_format = \"%d-%m-%Y\"\n",
    "    start = datetime.strptime(start_date, date_format)\n",
    "    end = datetime.strptime(end_date, date_format)\n",
    "    delta = (end - start).days\n",
    "\n",
    "    # Split starts and ends into separate dates.\n",
    "    if delta > DAY_LIMIT:\n",
    "        nRuns = math.ceil(delta / DAY_LIMIT)\n",
    "        output_dfs = []\n",
    "        for iRun in range(nRuns):  \n",
    "            this_start = start + timedelta(days=(iRun * DAY_LIMIT))\n",
    "            this_end = this_start + timedelta(days=DAY_LIMIT)\n",
    "            output_dfs.append(get_elec_sub_90(this_start, this_end))\n",
    "\n",
    "        # Concatenate dfs.\n",
    "        elec_prices = pd.concat(output_dfs)\n",
    "        \n",
    "    else:\n",
    "        elec_prices = get_elec_sub_90(start_date, end_date)\n",
    "        \n",
    "    # Get mean of each week, month, or day.\n",
    "    elec_monthly = elec_prices.resample(groupBy).mean()\n",
    "\n",
    "    return elec_monthly"
   ]
  },
  {
   "cell_type": "code",
   "execution_count": 4,
   "id": "76e8b591-328a-4fc7-989b-a5bdbeae94dd",
   "metadata": {},
   "outputs": [],
   "source": [
    "def calculate_future_spending(monthly_spending_list, predicted_prices_df):\n",
    "    \"\"\"Calculate spending for the next N months based on the last bill\"\"\"\n",
    "    # Get last bill value from list.\n",
    "    last_bill = monthly_spending_list[-1]\n",
    "\n",
    "    # Current date.\n",
    "    current_month = datetime.now().date()\n",
    "\n",
    "    # Filter previous months.\n",
    "    future_elec = predicted_prices_df.loc[current_month - timedelta(days=32) : ]\n",
    "\n",
    "    # Calculate percentage difference.\n",
    "    diff_factor = future_elec['Overall'].pct_change()\n",
    "\n",
    "    # Calculate future spending.\n",
    "    future_spending = (1 + diff_factor) * last_bill\n",
    "    future_spending = future_spending.drop(index=future_spending.index[0])\n",
    "    future_spending_df = pd.DataFrame(future_spending)\n",
    "\n",
    "    # Get past timestamps.\n",
    "    past_elec_prices = predicted_prices_df.loc[: current_month]\n",
    "    past_timestamps = past_elec_prices.index.values\n",
    "    past_spending = pd.DataFrame({\"Timestamp\": past_timestamps, \"Overall\": monthly_spending_list})\n",
    "    past_spending[\"Timestamp\"] = pd.to_datetime(past_spending[\"Timestamp\"], format=\"%d-%m-%Y\")\n",
    "    past_spending.set_index(\"Timestamp\", inplace=True)\n",
    "\n",
    "    # Combine current and future spending.\n",
    "    total_spending = pd.concat([past_spending, future_spending_df])\n",
    "    \n",
    "    return total_spending"
   ]
  },
  {
   "cell_type": "code",
   "execution_count": 5,
   "id": "33777076-0f68-4d99-8930-087d266fcb29",
   "metadata": {},
   "outputs": [],
   "source": [
    "def get_graph(df):\n",
    "    \"\"\"Plot a graph from a DataFrame\"\"\"\n",
    "    # fig = plt.figure()\n",
    "    # plt.bar(range(len(df)), df)\n",
    "    fig = df.plot(kind=\"bar\", ylim=(90,120))\n",
    "    fig.set_xlabel(\"Date\")\n",
    "    fig.set_ylabel(\"Spending (£)\")\n",
    "    fig.set_title(\"Current and Future Electricity Spending\")\n",
    "    fig.axvline(2.5)    \n",
    "    \n",
    "    imgdata = StringIO()\n",
    "    fig.figure.savefig(imgdata, format=\"svg\")\n",
    "    imgdata.seek(0)\n",
    "\n",
    "    data = imgdata.getvalue()\n",
    "    return data"
   ]
  },
  {
   "cell_type": "code",
   "execution_count": 6,
   "id": "9a0fa998-baab-4c15-976c-64a33e35faf7",
   "metadata": {},
   "outputs": [],
   "source": [
    "# Plot total spending graph.\n",
    "def get_future_elec():\n",
    "    # Call the function.\n",
    "    START_DATE = \"01-07-2022\"\n",
    "    END_DATE = \"01-12-2022\"\n",
    "    GROUP_BY = \"M\"\n",
    "    elec_by_month = get_electricity(START_DATE, END_DATE, GROUP_BY)\n",
    "    \n",
    "    # Calculate difference in spending on electricity.\n",
    "    SPENDING_ON_ELEC = [100, 98, 110]\n",
    "    total_spend = calculate_future_spending(SPENDING_ON_ELEC, elec_by_month)\n",
    "    \n",
    "    figure = get_graph(total_spend)"
   ]
  },
  {
   "cell_type": "code",
   "execution_count": 7,
   "id": "18e99640-250c-4224-8790-22d26bacbe18",
   "metadata": {},
   "outputs": [
    {
     "ename": "AttributeError",
     "evalue": "'AxesSubplot' object has no attribute 'ax'",
     "output_type": "error",
     "traceback": [
      "\u001b[1;31m---------------------------------------------------------------------------\u001b[0m",
      "\u001b[1;31mAttributeError\u001b[0m                            Traceback (most recent call last)",
      "Input \u001b[1;32mIn [7]\u001b[0m, in \u001b[0;36m<cell line: 2>\u001b[1;34m()\u001b[0m\n\u001b[0;32m      1\u001b[0m \u001b[38;5;66;03m# Run everything.\u001b[39;00m\n\u001b[1;32m----> 2\u001b[0m \u001b[43mget_future_elec\u001b[49m\u001b[43m(\u001b[49m\u001b[43m)\u001b[49m\n",
      "Input \u001b[1;32mIn [6]\u001b[0m, in \u001b[0;36mget_future_elec\u001b[1;34m()\u001b[0m\n\u001b[0;32m     10\u001b[0m SPENDING_ON_ELEC \u001b[38;5;241m=\u001b[39m [\u001b[38;5;241m100\u001b[39m, \u001b[38;5;241m98\u001b[39m, \u001b[38;5;241m110\u001b[39m]\n\u001b[0;32m     11\u001b[0m total_spend \u001b[38;5;241m=\u001b[39m calculate_future_spending(SPENDING_ON_ELEC, elec_by_month)\n\u001b[1;32m---> 13\u001b[0m figure \u001b[38;5;241m=\u001b[39m \u001b[43mget_graph\u001b[49m\u001b[43m(\u001b[49m\u001b[43mtotal_spend\u001b[49m\u001b[43m)\u001b[49m\n",
      "Input \u001b[1;32mIn [5]\u001b[0m, in \u001b[0;36mget_graph\u001b[1;34m(df)\u001b[0m\n\u001b[0;32m      8\u001b[0m fig\u001b[38;5;241m.\u001b[39mset_title(\u001b[38;5;124m\"\u001b[39m\u001b[38;5;124mCurrent and Future Electricity Spending\u001b[39m\u001b[38;5;124m\"\u001b[39m)\n\u001b[0;32m      9\u001b[0m fig\u001b[38;5;241m.\u001b[39maxvline(\u001b[38;5;241m2.5\u001b[39m)    \n\u001b[1;32m---> 10\u001b[0m \u001b[43mfig\u001b[49m\u001b[38;5;241;43m.\u001b[39;49m\u001b[43max\u001b[49m\u001b[38;5;241m.\u001b[39mset_xticklabels(df\u001b[38;5;241m.\u001b[39mindex\u001b[38;5;241m.\u001b[39mmonth)\n\u001b[0;32m     12\u001b[0m imgdata \u001b[38;5;241m=\u001b[39m StringIO()\n\u001b[0;32m     13\u001b[0m fig\u001b[38;5;241m.\u001b[39mfigure\u001b[38;5;241m.\u001b[39msavefig(imgdata, \u001b[38;5;28mformat\u001b[39m\u001b[38;5;241m=\u001b[39m\u001b[38;5;124m\"\u001b[39m\u001b[38;5;124msvg\u001b[39m\u001b[38;5;124m\"\u001b[39m)\n",
      "\u001b[1;31mAttributeError\u001b[0m: 'AxesSubplot' object has no attribute 'ax'"
     ]
    },
    {
     "data": {
      "image/png": "[encoded data removed]",
      "text/plain": [
       "<Figure size 640x480 with 1 Axes>"
      ]
     },
     "metadata": {},
     "output_type": "display_data"
    }
   ],
   "source": [
    "# Run everything.\n",
    "get_future_elec()"
   ]
  },
  {
   "cell_type": "code",
   "execution_count": null,
   "id": "1bd87530-353a-4938-8171-56ed92f5e70a",
   "metadata": {},
   "outputs": [],
   "source": [
    "##############################################################################################################"
   ]
  },
  {
   "cell_type": "code",
   "execution_count": null,
   "id": "74b893ab-535b-4de2-aa85-b28be9fd0e07",
   "metadata": {},
   "outputs": [],
   "source": [
    "# Format URL\n",
    "DNO = \"12\" # London area.\n",
    "VOLTAGE = \"LV\" # Low voltage.\n",
    "START_DATE = \"01-09-2022\"\n",
    "END_DATE = \"01-01-2023\"\n",
    "\n",
    "url = f\"https://odegdcpnma.execute-api.eu-west-2.amazonaws.com/development/prices?dno={DNO}&voltage={VOLTAGE}&start={START_DATE}&end={END_DATE}\""
   ]
  },
  {
   "cell_type": "code",
   "execution_count": null,
   "id": "1728da49-aa86-4431-8d47-e7f480eece9e",
   "metadata": {},
   "outputs": [],
   "source": [
    "# Hit the API to get the JSON.\n",
    "response = urlopen(url)\n",
    "data_json = json.loads(response.read())\n",
    "print(json.dumps(data_json, indent=2)[0:300])"
   ]
  },
  {
   "cell_type": "code",
   "execution_count": null,
   "id": "34dda601-4395-4342-ac4e-b41f4d25abe4",
   "metadata": {},
   "outputs": [],
   "source": [
    "# Show the response.\n",
    "df = pd.json_normalize(data_json[\"data\"][\"data\"])\n",
    "df = df.drop(columns=\"unixTimestamp\")\n",
    "df[\"Timestamp\"] = pd.to_datetime(df[\"Timestamp\"], format=\"%H:%M %d-%m-%Y\")\n",
    "df.set_index(\"Timestamp\", inplace=True)\n",
    "df"
   ]
  },
  {
   "cell_type": "code",
   "execution_count": null,
   "id": "9517c0de-6aa2-466e-865b-bbad682b9a88",
   "metadata": {},
   "outputs": [],
   "source": [
    "# Plot the response.\n",
    "x = \"Date/Time\"\n",
    "y = \"Price (£/kWh)\"\n",
    "ax = df[\"Overall\"].plot(x=x, y=y)\n",
    "plt.show()"
   ]
  },
  {
   "cell_type": "code",
   "execution_count": null,
   "id": "b7f6af49-5953-4d61-beb6-b4a71b5eaaa2",
   "metadata": {},
   "outputs": [],
   "source": [
    "# Get mean of each week.\n",
    "df_weekly = df.resample('M').mean()\n",
    "df_weekly"
   ]
  },
  {
   "cell_type": "code",
   "execution_count": null,
   "id": "56b70365-2ee6-442c-a37f-7d540a9d8428",
   "metadata": {},
   "outputs": [],
   "source": [
    "# Plot the response.\n",
    "x = \"Date\"\n",
    "y = \"Price (£/kWh)\"\n",
    "ax = df_weekly[\"Overall\"].plot(x=x, y=y)\n",
    "plt.show()"
   ]
  },
  {
   "cell_type": "code",
   "execution_count": null,
   "id": "10f633b7-b4c0-4666-b9fe-548328ae1660",
   "metadata": {},
   "outputs": [],
   "source": [
    "# Calculate difference in spending on electricity.\n",
    "SPENDING_ON_ELEC = [100, 98, 110]\n",
    "\n",
    "# Get last bill value from list.\n",
    "last_bill = SPENDING_ON_ELEC[-1]\n",
    "\n",
    "# Current date.\n",
    "current_month = datetime.now().date()\n",
    "\n",
    "# Filter previous months.\n",
    "future_elec = elec_by_month.loc[current_month - timedelta(days=32) : ]\n",
    "\n",
    "# Calculate percentage difference.\n",
    "diff_factor = future_elec['Overall'].pct_change()\n",
    "\n",
    "# Calculate future spending.\n",
    "future_spending = (1 + diff_factor) * last_bill\n",
    "future_spending = future_spending.drop(index=future_spending.index[0])\n",
    "future_spending_df = pd.DataFrame(future_spending)\n",
    "\n",
    "# Get past timestamps.\n",
    "past_elec_prices = elec_by_month.loc[: current_month]\n",
    "past_timestamps = past_elec_prices.index.values\n",
    "past_spending = pd.DataFrame({\"Timestamp\": past_timestamps, \"Overall\": SPENDING_ON_ELEC})\n",
    "past_spending[\"Timestamp\"] = pd.to_datetime(past_spending[\"Timestamp\"], format=\"%d-%m-%Y\")\n",
    "past_spending.set_index(\"Timestamp\", inplace=True)\n",
    "\n",
    "# Combine current and future spending.\n",
    "total_spending = pd.concat([past_spending, future_spending_df])\n",
    "total_spending"
   ]
  }
 ],
 "metadata": {
  "kernelspec": {
   "display_name": "Python 3 (ipykernel)",
   "language": "python",
   "name": "python3"
  },
  "language_info": {
   "codemirror_mode": {
    "name": "ipython",
    "version": 3
   },
   "file_extension": ".py",
   "mimetype": "text/x-python",
   "name": "python",
   "nbconvert_exporter": "python",
   "pygments_lexer": "ipython3",
   "version": "3.10.6"
  }
 },
 "nbformat": 4,
 "nbformat_minor": 5
}
